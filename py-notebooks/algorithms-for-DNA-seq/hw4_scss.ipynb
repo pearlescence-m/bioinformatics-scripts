{
 "cells": [
  {
   "cell_type": "code",
   "execution_count": 32,
   "metadata": {},
   "outputs": [],
   "source": [
    "def overlap(a, b, min_length=3):\n",
    "    \"\"\" Return length of longest suffix of 'a' matching\n",
    "        a prefix of 'b' that is at least 'min_length'\n",
    "        characters long.  If no such overlap exists,\n",
    "        return 0. \"\"\"\n",
    "    start = 0  # start all the way at the left\n",
    "    while True:\n",
    "        start = a.find(b[:min_length], start)  # look for b's suffx in a\n",
    "        if start == -1:  # no more occurrences to right\n",
    "            return 0\n",
    "        # found occurrence; check for full suffix/prefix match\n",
    "        if b.startswith(a[start:]):\n",
    "            return len(a)-start\n",
    "        start += 1  # move just past previous match\n",
    "\n",
    "import itertools\n",
    "\n",
    "def scs(ss):\n",
    "    \"\"\" Returns shortest common superstring of given\n",
    "        strings, which must be the same length \"\"\"\n",
    "    shortest_sup = None\n",
    "    for ssperm in itertools.permutations(ss):\n",
    "        sup = ssperm[0]  # superstring starts as first string\n",
    "        for i in range(len(ss)-1):\n",
    "            # overlap adjacent strings A and B in the permutation\n",
    "            olen = overlap(ssperm[i], ssperm[i+1], min_length=1)\n",
    "            # add non-overlapping portion of B to superstring\n",
    "            sup += ssperm[i+1][olen:]\n",
    "        if shortest_sup is None or len(sup) < len(shortest_sup):\n",
    "            shortest_sup = sup  # found shorter superstring\n",
    "    return shortest_sup # return shortest\n",
    "\n",
    "def scs_list(ss):\n",
    "    \"\"\" Returns the list of shortest common superstrings of given\n",
    "        strings, which must be the same length \"\"\"\n",
    "    shortest_sup = None\n",
    "    sups = []\n",
    "    for ssperm in itertools.permutations(ss):\n",
    "        sup = ssperm[0]  # superstring starts as first string\n",
    "        for i in range(len(ss)-1):\n",
    "            # overlap adjacent strings A and B in the permutation\n",
    "            olen = overlap(ssperm[i], ssperm[i+1], min_length=1)\n",
    "            # add non-overlapping portion of B to superstring\n",
    "            sup += ssperm[i+1][olen:]\n",
    "        \n",
    "        if shortest_sup is None or len(sup) < len(shortest_sup):\n",
    "            shortest_sup = sup  # found shorter superstring\n",
    "    \n",
    "    l = len(shortest_sup)  \n",
    "    \n",
    "    for ssperm in itertools.permutations(ss):\n",
    "        sup = ssperm[0]  # superstring starts as first string\n",
    "        for i in range(len(ss)-1):\n",
    "            # overlap adjacent strings A and B in the permutation\n",
    "            olen = overlap(ssperm[i], ssperm[i+1], min_length=1)\n",
    "            # add non-overlapping portion of B to superstring\n",
    "            sup += ssperm[i+1][olen:]\n",
    "        \n",
    "        if len(sup) == l:\n",
    "             sups.append(sup)  # found another short superstring\n",
    "    return sups  # return shortest"
   ]
  },
  {
   "cell_type": "markdown",
   "metadata": {},
   "source": [
    "It's possible for there to be multiple different shortest common superstrings for the same set of input strings. Consider the input strings ABC , BCA, CAB. One shortest common superstring is ABCAB but another is BCABC and another is CABCA."
   ]
  },
  {
   "cell_type": "markdown",
   "metadata": {},
   "source": [
    "### Example 1"
   ]
  },
  {
   "cell_type": "code",
   "execution_count": 33,
   "metadata": {},
   "outputs": [],
   "source": [
    "strings = ['ABC', 'BCA', 'CAB']"
   ]
  },
  {
   "cell_type": "code",
   "execution_count": 34,
   "metadata": {},
   "outputs": [
    {
     "data": {
      "text/plain": [
       "'ABCAB'"
      ]
     },
     "execution_count": 34,
     "metadata": {},
     "output_type": "execute_result"
    }
   ],
   "source": [
    "# Returns just one shortest superstring\n",
    "scs(strings)"
   ]
  },
  {
   "cell_type": "code",
   "execution_count": 35,
   "metadata": {},
   "outputs": [
    {
     "data": {
      "text/plain": [
       "['ABCAB', 'BCABC', 'CABCA']"
      ]
     },
     "execution_count": 35,
     "metadata": {},
     "output_type": "execute_result"
    }
   ],
   "source": [
    "# Returns list of all superstrings that are tied for shorest\n",
    "scs_list(strings)"
   ]
  },
  {
   "cell_type": "markdown",
   "metadata": {},
   "source": [
    "### Example 2"
   ]
  },
  {
   "cell_type": "code",
   "execution_count": 36,
   "metadata": {},
   "outputs": [],
   "source": [
    "strings = ['GAT', 'TAG', 'TCG', 'TGC', 'AAT', 'ATA']"
   ]
  },
  {
   "cell_type": "code",
   "execution_count": 37,
   "metadata": {},
   "outputs": [
    {
     "data": {
      "text/plain": [
       "'TCGATGCAATAG'"
      ]
     },
     "execution_count": 37,
     "metadata": {},
     "output_type": "execute_result"
    }
   ],
   "source": [
    "# Returns just one shortest superstring\n",
    "scs(strings)"
   ]
  },
  {
   "cell_type": "code",
   "execution_count": 38,
   "metadata": {},
   "outputs": [
    {
     "data": {
      "text/plain": [
       "['TCGATGCAATAG',\n",
       " 'TCGATAGAATGC',\n",
       " 'TCGAATAGATGC',\n",
       " 'TGCAATCGATAG',\n",
       " 'TGCAATAGATCG',\n",
       " 'AATCGATAGTGC',\n",
       " 'AATGCTCGATAG',\n",
       " 'AATAGATCGTGC',\n",
       " 'AATAGATGCTCG',\n",
       " 'AATAGTCGATGC']"
      ]
     },
     "execution_count": 38,
     "metadata": {},
     "output_type": "execute_result"
    }
   ],
   "source": [
    "# Returns list of all superstrings that are tied for shorest\n",
    "scs_list(strings)"
   ]
  },
  {
   "cell_type": "code",
   "execution_count": 7,
   "metadata": {},
   "outputs": [
    {
     "data": {
      "text/plain": [
       "['AATAGATCGTGC',\n",
       " 'AATAGATGCTCG',\n",
       " 'AATAGTCGATGC',\n",
       " 'AATCGATAGTGC',\n",
       " 'AATGCTCGATAG',\n",
       " 'TCGAATAGATGC',\n",
       " 'TCGATAGAATGC',\n",
       " 'TCGATGCAATAG',\n",
       " 'TGCAATAGATCG',\n",
       " 'TGCAATCGATAG']"
      ]
     },
     "execution_count": 7,
     "metadata": {},
     "output_type": "execute_result"
    }
   ],
   "source": [
    "# Returns list of all superstrings that are tied for shorest\n",
    "scs_list(strings)"
   ]
  },
  {
   "cell_type": "markdown",
   "metadata": {},
   "source": [
    "### Questions"
   ]
  },
  {
   "cell_type": "markdown",
   "metadata": {},
   "source": [
    "> Question 1\n",
    "\n",
    "What is the length of the shortest common superstring of the following strings?\n",
    "\n",
    "CCT, CTT, TGC, TGG, GAT, ATT"
   ]
  },
  {
   "cell_type": "code",
   "execution_count": 39,
   "metadata": {},
   "outputs": [
    {
     "data": {
      "text/plain": [
       "11"
      ]
     },
     "execution_count": 39,
     "metadata": {},
     "output_type": "execute_result"
    }
   ],
   "source": [
    "ss = ['CCT', 'CTT', 'TGC', 'TGG', 'GAT', 'ATT']\n",
    "\n",
    "len(scs(ss))"
   ]
  },
  {
   "cell_type": "markdown",
   "metadata": {},
   "source": [
    "> Question 2\n",
    "\n",
    "How many different shortest common superstrings are there for the input strings given in the previous question?"
   ]
  },
  {
   "cell_type": "code",
   "execution_count": 40,
   "metadata": {},
   "outputs": [
    {
     "data": {
      "text/plain": [
       "4"
      ]
     },
     "execution_count": 40,
     "metadata": {},
     "output_type": "execute_result"
    }
   ],
   "source": [
    "len(scs_list(ss))"
   ]
  },
  {
   "cell_type": "markdown",
   "metadata": {},
   "source": [
    "> Question 3\n",
    "\n",
    "All the reads are the same length (100 bases) and are exact copies of substrings from the forward strand of the virus genome.  You don't have to worry about sequencing errors, ploidy, or reads coming from the reverse strand.\n",
    "\n",
    "Assemble these reads using one of the approaches discussed, such as greedy shortest common superstring.  Since there are many reads, you might consider ways to make the algorithm faster, such as the one discussed in the programming assignment in the previous module.\n",
    "\n",
    "How many As are there in the full, assembled genome?\n",
    "\n",
    "Hint: the virus genome you are assembling is exactly 15,894 bases long"
   ]
  },
  {
   "cell_type": "code",
   "execution_count": 41,
   "metadata": {},
   "outputs": [],
   "source": [
    "def readFASTQ(filename):    \n",
    "    f = open(filename)\n",
    "    reads = []\n",
    "    while True:\n",
    "        h = f.readline()\n",
    "        if len(h) == 0:\n",
    "            break\n",
    "        sequence = f.readline().rstrip()\n",
    "        _ = f.readline()\n",
    "        quality = f.readline().rstrip()\n",
    "        reads.append(sequence)\n",
    "        \n",
    "    return reads"
   ]
  },
  {
   "cell_type": "code",
   "execution_count": 43,
   "metadata": {},
   "outputs": [],
   "source": [
    "files = './data/ads1_week4_reads.fq'\n",
    "reads = readFASTQ(files)"
   ]
  },
  {
   "cell_type": "code",
   "execution_count": 45,
   "metadata": {},
   "outputs": [],
   "source": [
    "def pick_maximal_overlap(reads, k):\n",
    "    \"\"\" Return a pair of reads from the list with a\n",
    "        maximal suffix/prefix overlap >= k.  Returns\n",
    "        overlap length 0 if there are no such overlaps.\"\"\"\n",
    "    reada, readb = None, None\n",
    "    best_olen = 0\n",
    "    for a, b in itertools.permutations(reads, 2):\n",
    "        olen = overlap(a, b, min_length=k)\n",
    "        if olen > best_olen:\n",
    "            reada, readb = a, b\n",
    "            best_olen = olen\n",
    "    return reada, readb, best_olen"
   ]
  },
  {
   "cell_type": "code",
   "execution_count": 46,
   "metadata": {},
   "outputs": [],
   "source": [
    "def greedy_scs(reads, k):\n",
    "    \"\"\" Greedy shortest-common-superstring merge.\n",
    "        Repeat until no edges (overlaps of length >= k)\n",
    "        remain. \"\"\"\n",
    "    read_a, read_b, olen = pick_maximal_overlap(reads, k)\n",
    "    while olen > 0:\n",
    "        reads.remove(read_a)\n",
    "        reads.remove(read_b)\n",
    "        reads.append(read_a + read_b[olen:])\n",
    "        read_a, read_b, olen = pick_maximal_overlap(reads, k)\n",
    "    return ''.join(reads)"
   ]
  },
  {
   "cell_type": "code",
   "execution_count": 48,
   "metadata": {},
   "outputs": [],
   "source": [
    "%%time\n",
    "ss = greedy_scs(reads, 10)"
   ]
  },
  {
   "cell_type": "code",
   "execution_count": null,
   "metadata": {},
   "outputs": [],
   "source": [
    "i = 0\n",
    "for s in ss:\n",
    "    if s == 'A':\n",
    "        i +=1\n",
    "print('# As: ', i)"
   ]
  },
  {
   "cell_type": "markdown",
   "metadata": {},
   "source": [
    "> Question 4\n",
    "\n",
    "How many Ts are there in the full, assembled genome from the previous question?"
   ]
  },
  {
   "cell_type": "code",
   "execution_count": null,
   "metadata": {},
   "outputs": [],
   "source": [
    "i = 0\n",
    "for s in ss:\n",
    "    if s == 'T':\n",
    "        i +=1\n",
    "print('# Ts: ', i)"
   ]
  }
 ],
 "metadata": {
  "kernelspec": {
   "display_name": "Python 3 (ipykernel)",
   "language": "python",
   "name": "python3"
  },
  "language_info": {
   "codemirror_mode": {
    "name": "ipython",
    "version": 3
   },
   "file_extension": ".py",
   "mimetype": "text/x-python",
   "name": "python",
   "nbconvert_exporter": "python",
   "pygments_lexer": "ipython3",
   "version": "3.11.0"
  },
  "toc": {
   "base_numbering": 1,
   "nav_menu": {},
   "number_sections": true,
   "sideBar": true,
   "skip_h1_title": false,
   "title_cell": "Table of Contents",
   "title_sidebar": "Contents",
   "toc_cell": false,
   "toc_position": {},
   "toc_section_display": true,
   "toc_window_display": false
  }
 },
 "nbformat": 4,
 "nbformat_minor": 1
}
